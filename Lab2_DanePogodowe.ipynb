{
 "cells": [
  {
   "cell_type": "code",
   "execution_count": null,
   "id": "c4674851-42f5-4cf9-b392-2f7e75f42814",
   "metadata": {},
   "outputs": [],
   "source": [
    "import pandas as pd\n",
    "import pymysql\n",
    "from dotenv import load_dotenv\n",
    "import os\n",
    "\n",
    "load_dotenv()\n",
    "db_host = os.getenv(\"DB_HOST\")\n",
    "db_port = int(os.getenv(\"DB_PORT\"))\n",
    "db_user = os.getenv(\"DB_USER\")\n",
    "db_password = os.getenv(\"DB_PASSWORD\")\n",
    "db_database = os.getenv(\"DB_DATABASE\")  \n",
    "\n",
    "try:\n",
    "    conn = pymysql.connect(\n",
    "        host=db_host,\n",
    "        port=db_port,\n",
    "        user=db_user,\n",
    "        password=db_password,\n",
    "        db=db_database\n",
    "    )\n",
    "except Exception as e:\n",
    "    print(f\"Error connecting to database: {e}\")\n",
    "finally:\n",
    "    if conn:\n",
    "        conn.close()"
   ]
  },
  {
   "cell_type": "code",
   "execution_count": 2,
   "id": "21d3b6ea",
   "metadata": {},
   "outputs": [],
   "source": [
    "import pandas as pd\n",
    "import pymysql\n",
    "from dotenv import load_dotenv\n",
    "import os\n",
    "\n",
    "load_dotenv()\n",
    "db_host = os.getenv(\"DB_HOST\")\n",
    "db_port = int(os.getenv(\"DB_PORT\"))\n",
    "db_user = os.getenv(\"DB_USER\")\n",
    "db_password = os.getenv(\"DB_PASSWORD\")\n",
    "db_database = os.getenv(\"DB_DATABASE\")  \n",
    "\n",
    "try:\n",
    "    conn = pymysql.connect(\n",
    "        host=db_host,\n",
    "        port=db_port,\n",
    "        user=db_user,\n",
    "        password=db_password,\n",
    "        db=db_database\n",
    "    )\n",
    "except Exception as e:\n",
    "    print(f\"Error connecting to database: {e}\")\n",
    "finally:\n",
    "    if conn:\n",
    "        conn.close()"
   ]
  }
 ],
 "metadata": {
  "kernelspec": {
   "display_name": "Python 3",
   "language": "python",
   "name": "python3"
  },
  "language_info": {
   "codemirror_mode": {
    "name": "ipython",
    "version": 3
   },
   "file_extension": ".py",
   "mimetype": "text/x-python",
   "name": "python",
   "nbconvert_exporter": "python",
   "pygments_lexer": "ipython3",
   "version": "3.10.12"
  }
 },
 "nbformat": 4,
 "nbformat_minor": 5
}
