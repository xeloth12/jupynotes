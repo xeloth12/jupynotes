{
 "cells": [
  {
   "cell_type": "code",
   "execution_count": null,
   "id": "c4674851-42f5-4cf9-b392-2f7e75f42814",
   "metadata": {},
   "outputs": [
    {
     "name": "stdout",
     "output_type": "stream",
     "text": [
      "Connection successful!\n",
      "Connection closed.\n"
     ]
    }
   ],
   "source": [
    "import pandas as pd\n",
    "import pyodbc\n",
    "from dotenv import load_dotenv\n",
    "import os\n",
    "\n",
    "# Ładowanie zmiennych środowiskowych\n",
    "load_dotenv()\n",
    "\n",
    "db_host = os.getenv(\"DB_HOST\")\n",
    "db_port = os.getenv(\"DB_PORT\")\n",
    "db_user = os.getenv(\"DB_USER\")\n",
    "db_password = os.getenv(\"DB_PASSWORD\")\n",
    "db_database = os.getenv(\"DB_DATABASE\")\n",
    "\n",
    "try:\n",
    "    conn_str = (\n",
    "        f\"DRIVER={{ODBC Driver 17 for SQL Server}};\"\n",
    "        f\"SERVER={db_host},{db_port};\"\n",
    "        f\"DATABASE={db_database};\"\n",
    "        f\"UID={db_user};\"\n",
    "        f\"PWD={db_password}\"\n",
    "    )\n",
    "    conn = pyodbc.connect(conn_str)\n",
    "    print(\"Connection successful!\")\n",
    "\n",
    "except Exception as e:\n",
    "    print(f\"Error: {e}\")\n",
    "finally:\n",
    "    if 'conn' in locals() and conn:\n",
    "        conn.close()\n",
    "        print(\"Connection closed.\")\n"
   ]
  }
 ],
 "metadata": {
  "kernelspec": {
   "display_name": "Python 3",
   "language": "python",
   "name": "python3"
  },
  "language_info": {
   "codemirror_mode": {
    "name": "ipython",
    "version": 3
   },
   "file_extension": ".py",
   "mimetype": "text/x-python",
   "name": "python",
   "nbconvert_exporter": "python",
   "pygments_lexer": "ipython3",
   "version": "3.13.0"
  }
 },
 "nbformat": 4,
 "nbformat_minor": 5
}
