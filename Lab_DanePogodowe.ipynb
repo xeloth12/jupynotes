{
 "cells": [
  {
   "cell_type": "code",
   "id": "c4674851-42f5-4cf9-b392-2f7e75f42814",
   "metadata": {},
   "source": [
    "import pandas as pd\n",
    "import matplotlib.pyplot as plt\n",
    "import plotly.express as px\n",
    "import seaborn as sns\n",
    "import numpy as np\n",
    "from sqlalchemy import create_engine\n",
    "from dotenv import load_dotenv\n",
    "import os\n",
    "\n",
    "# Ładowanie zmiennych środowiskowych\n",
    "load_dotenv()\n",
    "\n",
    "db_host = os.getenv(\"DB_HOST\")\n",
    "db_port = os.getenv(\"DB_PORT\")\n",
    "db_user = os.getenv(\"DB_USER\")\n",
    "db_password = os.getenv(\"DB_PASSWORD\")\n",
    "db_database = os.getenv(\"DB_DATABASE\")\n",
    "\n",
    "conn = (\n",
    "    f\"mssql+pyodbc://{db_user}:{db_password}@{db_host}:{db_port}/{db_database}\"\n",
    "    \"?driver=ODBC+Driver+17+for+SQL+Server\"\n",
    ")\n",
    "engine = create_engine(conn)\n",
    "print(\"Connection successful!\")"
   ],
   "outputs": [],
   "execution_count": null
  },
  {
   "metadata": {},
   "cell_type": "markdown",
   "source": [
    "- Temperatura powietrza\n",
    "- Opady (sniegu, deszczu)\n",
    "- Poziomy wod (studnie, rzeki) X\n",
    "- Pokrywa śnieżna X\n",
    "- Mokradla X"
   ],
   "id": "98cdc2624d1e8a69"
  },
  {
   "cell_type": "markdown",
   "id": "d96515f0a3346533",
   "metadata": {},
   "source": "# Srednia temperatura od 2000 do 2024 z podziałem na miesiące"
  },
  {
   "cell_type": "code",
   "id": "c8237d9b8398c5c",
   "metadata": {},
   "source": [
    "# Mean temperature between 2000 and 2023\n",
    "meantemp_by_year_by_month = \"\"\"\n",
    "WITH LiczbaMiesiecyPomiarowychNaRok AS (\n",
    "    SELECT\n",
    "        YEAR(d.data) AS Year,\n",
    "        COUNT(DISTINCT MONTH(d.data)) AS LiczbaMiesiecyPomiarowych\n",
    "    FROM\n",
    "        Depesze d\n",
    "    GROUP BY\n",
    "        YEAR(d.data)\n",
    "),\n",
    "LiczbaDepeszyPerStacja AS (\n",
    "    SELECT\n",
    "        Stacja,\n",
    "        COUNT(*) AS LiczbaDepeszy\n",
    "    FROM\n",
    "        Depesze d\n",
    "    GROUP BY\n",
    "        Stacja\n",
    ")\n",
    "SELECT\n",
    "    YEAR(d.data) AS Year,\n",
    "    MONTH(d.data) AS Month,\n",
    "    AVG(TemperaturaPowietrza) AS AvgTemp\n",
    "FROM\n",
    "    Depesze d\n",
    "WHERE\n",
    "    YEAR(d.data) IN (\n",
    "        SELECT Year\n",
    "        FROM LiczbaMiesiecyPomiarowychNaRok\n",
    "        WHERE LiczbaMiesiecyPomiarowych = 12\n",
    "    ) and Stacja in (\n",
    "        SELECT Stacja\n",
    "        FROM LiczbaDepeszyPerStacja\n",
    "        WHERE LiczbaDepeszy > 30\n",
    "    )\n",
    "GROUP BY\n",
    "    YEAR(d.data), MONTH(d.data)\n",
    "ORDER BY\n",
    "    Year, Month;\n",
    "\"\"\""
   ],
   "outputs": [],
   "execution_count": null
  },
  {
   "metadata": {},
   "cell_type": "code",
   "source": [
    "# Pobranie danych\n",
    "df = pd.read_sql_query(meantemp_by_year_by_month, engine)\n",
    "df"
   ],
   "id": "3581e2214ac9babd",
   "outputs": [],
   "execution_count": null
  },
  {
   "cell_type": "code",
   "id": "c015daaedc8ddb35",
   "metadata": {},
   "source": [
    "# Sprawdzenie i raportowanie zduplikowanych oraz brakujących wartości\n",
    "print(\"Liczba zduplikowanych wierszy:\", df.duplicated().sum())\n",
    "print(\"Liczba brakujących wartości:\", df.isnull().sum().sum())\n",
    "\n",
    "# Obsługa duplikatów\n",
    "df = df.drop_duplicates()\n",
    "\n",
    "# Obsługa brakujących wartości, jeśli istnieją. W tym miejscu usuwamy wiersze z brakującymi wartościami, ale można je również wypełnić.\n",
    "df = df.dropna()\n",
    "\n",
    "# Informacja po czyszczeniu danych\n",
    "print(\"Kształt danych po czyszczeniu:\", df.shape)\n",
    "\n",
    "# Tworzenie wykresu ```\n",
    "fig = px.line(df, x='Month', y='AvgTemp', color='Year',\n",
    "              title='Średnia temperatura miesięczna w ciągu lat',\n",
    "              labels={\n",
    "                  'Month': 'Miesiąc',\n",
    "                  'AvgTemp': 'Średnia temperatura (°C)',\n",
    "                  'Year': 'Rok'\n",
    "              })\n",
    "\n",
    "# Poprawa czytelności wykresu i wycentrowanie tytułu\n",
    "fig.update_layout(title_x=0.5,\n",
    "                  xaxis=dict(tickmode='array', tickvals=list(range(1, 13)))#,\n",
    "                  # xaxis_title='Miesiąc',\n",
    "                  # yaxis_title='Średnia temperatura (°C)'\n",
    "                  )\n",
    "\n",
    "# Wyświetlenie wykresu\n",
    "fig.show()\n",
    "plt.close()"
   ],
   "outputs": [],
   "execution_count": null
  },
  {
   "cell_type": "markdown",
   "id": "f92bd839b17c1ae6",
   "metadata": {},
   "source": "# Porównanie globalnie średniej i globalnie mediany dla każdego miesiąca ze średnią temperatury z podziałem na rok"
  },
  {
   "metadata": {},
   "cell_type": "markdown",
   "source": "Średnia",
   "id": "67c68b63764002ef"
  },
  {
   "metadata": {},
   "cell_type": "code",
   "source": [
    "mean_temps_by_month = df.groupby('Month')[\"AvgTemp\"].mean().reset_index().rename(columns={\"AvgTemp\": \"OverallAvgTempPerMonth\"})\n",
    "mean_temps_by_month"
   ],
   "id": "d416e5e41d6dc8b1",
   "outputs": [],
   "execution_count": null
  },
  {
   "metadata": {},
   "cell_type": "code",
   "source": [
    "merged_df_with_mean = pd.merge(df, mean_temps_by_month, on='Month')\n",
    "merged_df_with_mean['OverallAvgTempAvgDiff'] = merged_df_with_mean['AvgTemp'] - merged_df_with_mean['OverallAvgTempPerMonth']\n",
    "merged_df_with_mean"
   ],
   "id": "52a98bfa481e7470",
   "outputs": [],
   "execution_count": null
  },
  {
   "metadata": {},
   "cell_type": "markdown",
   "source": "Mediana",
   "id": "401411068e0bb395"
  },
  {
   "metadata": {},
   "cell_type": "code",
   "source": [
    "median_temps_by_month = df.groupby('Month')[\"AvgTemp\"].median().reset_index().rename(columns={\"AvgTemp\": \"OverallMedianTempPerMonth\"})\n",
    "median_temps_by_month"
   ],
   "id": "def71929b9fb8a4c",
   "outputs": [],
   "execution_count": null
  },
  {
   "metadata": {},
   "cell_type": "code",
   "source": [
    "merged_df_with_median = pd.merge(df, median_temps_by_month, on='Month')\n",
    "merged_df_with_median['OverallMedianTempAvgDiff'] = merged_df_with_median['AvgTemp'] - merged_df_with_median['OverallMedianTempPerMonth']\n",
    "merged_df_with_median"
   ],
   "id": "cfc75533f94068ec",
   "outputs": [],
   "execution_count": null
  },
  {
   "metadata": {},
   "cell_type": "code",
   "source": [
    "merged_df_with_mean['YearMonth'] = merged_df_with_mean['Year'].map(str) + \"-\" + merged_df_with_mean['Month'].map(str)\n",
    "plt.figure(figsize=(40, 10))  # Set the figure size\n",
    "plt.bar(merged_df_with_mean['YearMonth'], merged_df_with_mean['AvgTemp'], color='yellow')\n",
    "plt.xticks(rotation=45)  # Rotate the x labels for better readability\n",
    "plt.xticks(ticks=range(0, len(merged_df_with_mean),2),\n",
    "           labels=merged_df_with_mean['YearMonth'][::2])\n",
    "plt.title('Bar Chart of Average Temperature by Year-Month')\n",
    "plt.xlabel('Year-Month')\n",
    "plt.ylabel('Average Temperature')\n",
    "plt.show()\n"
   ],
   "id": "2a6a83de5b2ac9a4",
   "outputs": [],
   "execution_count": null
  },
  {
   "metadata": {},
   "cell_type": "code",
   "source": [
    "pivot_tab = merged_df_with_mean.pivot(index=\"Year\", columns=\"Month\",values=\"OverallAvgTempAvgDiff\")\n",
    "plt.figure(figsize=(10, 8))\n",
    "sns.heatmap(pivot_tab, annot=True, cmap=\"coolwarm\")\n",
    "plt.title(\"Heatmap of Temperature Difference Between Average Temperature and Global Average Temperature by Month and Year\")\n",
    "plt.show()"
   ],
   "id": "b5644cbf014e595b",
   "outputs": [],
   "execution_count": null
  },
  {
   "metadata": {},
   "cell_type": "code",
   "source": [
    "newdf_med = merged_df[['YearMonth','GlobalMedianTemp']]\n",
    "newdf_med"
   ],
   "id": "19c74566c7f33543",
   "outputs": [],
   "execution_count": null
  },
  {
   "metadata": {},
   "cell_type": "code",
   "source": [
    "newdf_med = merged_df[['GlobalMedianTemp', 'YearMonth']]\n",
    "\n",
    "plt.figure(figsize=(40, 10))  # Set the figure size\n",
    "plt.bar(newdf_med['YearMonth'], newdf_med['GlobalMedianTemp'], color='peru')\n",
    "plt.xticks(rotation=45)  # Rotate the x labels for better readability\n",
    "plt.xticks(ticks=range(0, len(newdf_med),2),\n",
    "           labels=newdf_med['YearMonth'][::2])\n",
    "plt.title('Bar Char of Median Temperature by Year-Month')\n",
    "plt.xlabel('Year-Month')\n",
    "plt.ylabel('Average Temperature')\n",
    "plt.show()"
   ],
   "id": "1256a8bfa4b45097",
   "outputs": [],
   "execution_count": null
  },
  {
   "metadata": {},
   "cell_type": "code",
   "source": "print(newdf.head())",
   "id": "cdd7489523ca0c04",
   "outputs": [],
   "execution_count": null
  },
  {
   "metadata": {},
   "cell_type": "code",
   "source": [
    "merged_df_sorted = merged_df.sort_values(by=['Year','Month'], ascending=False)\n",
    "merged_df_sorted"
   ],
   "id": "e5beda29dbe1f7e3",
   "outputs": [],
   "execution_count": null
  },
  {
   "metadata": {},
   "cell_type": "code",
   "source": [
    "pivot_tab = merged_df_sorted.pivot(index=\"Year\", columns=\"Month\",values=\"TempDiff\")\n",
    "pivot_tab"
   ],
   "id": "b64e2abf34b07285",
   "outputs": [],
   "execution_count": null
  },
  {
   "metadata": {},
   "cell_type": "code",
   "source": [
    "plt.figure(figsize=(10, 8))\n",
    "sns.heatmap(pivot_tab, annot=True, cmap=\"coolwarm\")\n",
    "plt.title(\"Heatmap of Temperature Difference Between Average Temperature and Median Temperature by Month and Year\")\n",
    "plt.show()"
   ],
   "id": "4fa3e5d34ae4a94",
   "outputs": [],
   "execution_count": null
  },
  {
   "cell_type": "code",
   "id": "91d39bf899bdf313",
   "metadata": {},
   "source": [
    "merged_df_positive = merged_df[merged_df['TempDiff'] > 0]\n",
    "merged_df_positive.groupby('Year').size().reset_index(name='Count')"
   ],
   "outputs": [],
   "execution_count": null
  },
  {
   "cell_type": "code",
   "id": "838a4c4ff48eb2f7",
   "metadata": {},
   "source": [
    "import pandas as pd\n",
    "import matplotlib.pyplot as plt\n",
    "import numpy as np\n",
    "from sqlalchemy import create_engine\n",
    "\n",
    "# Pobranie danych z bazy (zapytanie SQL do analizy opadów)\n",
    "query = \"\"\"\n",
    "SELECT\n",
    "    YEAR(data) AS Rok,\n",
    "    AVG(Opady6) AS SrednieOpady6h,\n",
    "    AVG(Opady12) AS SrednieOpady12h\n",
    "FROM\n",
    "    Synop.dbo.DaneModelTMP\n",
    "WHERE\n",
    "    Opady6 IS NOT NULL AND Opady12 IS NOT NULL\n",
    "GROUP BY\n",
    "    YEAR(data)\n",
    "ORDER BY\n",
    "    Rok\n",
    "\"\"\"\n",
    "df = pd.read_sql(query, engine)\n",
    "\n",
    "# Wyciągnięcie danych do regresji\n",
    "x = df['Rok']\n",
    "y6 = df['SrednieOpady6h']\n",
    "y12 = df['SrednieOpady12h']\n",
    "\n",
    "# Obliczanie współczynników regresji dla opadów 6-godzinnych\n",
    "coeff6 = np.polyfit(x, y6, 1)  # Dopasowanie liniowe\n",
    "trend6 = np.polyval(coeff6, x)  # Wyliczenie wartości linii trendu\n",
    "\n",
    "# Obliczanie współczynników regresji dla opadów 12-godzinnych\n",
    "coeff12 = np.polyfit(x, y12, 1)  # Dopasowanie liniowe\n",
    "trend12 = np.polyval(coeff12, x)  # Wyliczenie wartości linii trendu\n",
    "\n",
    "# Tworzenie wykresu słupkowego\n",
    "plt.figure(figsize=(12, 7))\n",
    "bar_width = 0.4\n",
    "plt.bar(x - bar_width / 2, y6, width=bar_width, label='Średnie Opady 6h', color='skyblue')\n",
    "plt.bar(x + bar_width / 2, y12, width=bar_width, label='Średnie Opady 12h', color='orange')\n",
    "\n",
    "# Dodanie linii trendu\n",
    "plt.plot(x, trend6, color='blue', linestyle='--', linewidth=2, label='Trend Opady 6h')\n",
    "plt.plot(x, trend12, color='red', linestyle='--', linewidth=2, label='Trend Opady 12h')\n",
    "\n",
    "# Dodanie etykiet i tytułu\n",
    "plt.title('Średnie Opady na przestrzeni lat z linią trendu', fontsize=16)\n",
    "plt.xlabel('Rok', fontsize=14)\n",
    "plt.ylabel('Średnie opady (mm)', fontsize=14)\n",
    "plt.xticks(x, rotation=45)\n",
    "plt.grid(axis='y', linestyle='--', alpha=0.7)\n",
    "plt.legend()\n",
    "plt.tight_layout()\n",
    "\n",
    "# Wyświetlenie wykresu\n",
    "plt.show()"
   ],
   "outputs": [],
   "execution_count": null
  },
  {
   "cell_type": "code",
   "id": "9a1f9148f1ed3fd9",
   "metadata": {},
   "source": [
    "import pandas as pd\n",
    "import matplotlib.pyplot as plt\n",
    "import numpy as np\n",
    "from sqlalchemy import create_engine\n",
    "\n",
    "\n",
    "# Pobranie danych z bazy (zapytanie SQL do analizy wilgotności)\n",
    "query = \"\"\"\n",
    "SELECT\n",
    "    YEAR(data) AS Rok,\n",
    "    AVG(TemperaturaPunktuRosy) AS SredniaTemperaturaPunktuRosy\n",
    "FROM\n",
    "    Synop.dbo.DaneModelTMP\n",
    "WHERE\n",
    "    TemperaturaPunktuRosy IS NOT NULL and YEAR(data) BETWEEN 2000 AND 2023\n",
    "GROUP BY\n",
    "    YEAR(data)\n",
    "ORDER BY\n",
    "    Rok\n",
    "\"\"\"\n",
    "df = pd.read_sql(query, engine)\n",
    "\n",
    "# Wyciągnięcie danych do regresji\n",
    "x = df['Rok']\n",
    "y = df['SredniaTemperaturaPunktuRosy']\n",
    "\n",
    "# Obliczanie współczynników regresji (linia trendu)\n",
    "coeff = np.polyfit(x, y, 1)  # Dopasowanie liniowe\n",
    "trend = np.polyval(coeff, x)  # Wyliczenie wartości linii trendu\n",
    "\n",
    "# Tworzenie wykresu punktowego\n",
    "plt.figure(figsize=(10, 6))\n",
    "plt.scatter(x, y, color='green', label='Srednia Temperatura Punktu Rosy', alpha=0.7)\n",
    "\n",
    "# Dodanie linii trendu\n",
    "plt.plot(x, trend, color='red', linestyle='--', linewidth=2, label='Linia trendu')\n",
    "\n",
    "# Dodanie etykiet i tytułu\n",
    "plt.title('Srednia temperatura punktu rosy na przestrzeni lat z linią trendu', fontsize=16)\n",
    "plt.xlabel('Rok', fontsize=14)\n",
    "plt.ylabel('Srednia Temperatura Punktu Rosy (°C)', fontsize=14)\n",
    "plt.xticks(x, rotation=45)\n",
    "plt.grid(True, linestyle='--', alpha=0.7)\n",
    "plt.legend()\n",
    "\n",
    "# Wyświetlenie wykresu\n",
    "plt.tight_layout()\n",
    "plt.show()"
   ],
   "outputs": [],
   "execution_count": null
  },
  {
   "metadata": {},
   "cell_type": "code",
   "source": [
    "# Zapytanie SQL do analizy częstotliwości występowania zjawisk pogodowych\n",
    "query = \"\"\"\n",
    "SELECT\n",
    "    YEAR(data) AS Rok,\n",
    "    SUM(CASE WHEN Deszcz6 = 1 THEN 1 ELSE 0 END) AS LiczbaDeszczy,\n",
    "    SUM(CASE WHEN Snieg6 = 1 THEN 1 ELSE 0 END) AS LiczbaSniegów,\n",
    "    SUM(CASE WHEN Burza6 = 1 THEN 1 ELSE 0 END) AS LiczbaBurz,\n",
    "    SUM(CASE WHEN Mgla6 = 1 THEN 1 ELSE 0 END) AS LiczbaMgiel\n",
    "FROM\n",
    "    Synop.dbo.DaneModelTMP\n",
    "WHERE\n",
    "    Deszcz6 IS NOT NULL OR Snieg6 IS NOT NULL OR Burza6 IS NOT NULL OR Mgla6 IS NOT NULL and YEAR(data) BETWEEN 2000 AND 2023\n",
    "GROUP BY\n",
    "    YEAR(data)\n",
    "ORDER BY\n",
    "    Rok\n",
    "\"\"\"\n",
    "df = pd.read_sql(query, engine)\n",
    "df"
   ],
   "id": "d8843cbf194136ad",
   "outputs": [],
   "execution_count": null
  },
  {
   "cell_type": "code",
   "id": "cf886c9c47359703",
   "metadata": {},
   "source": [
    "# Wykres powierzchniowy dla zjawisk pogodowych\n",
    "plt.figure(figsize=(12, 6))\n",
    "\n",
    "plt.stackplot(df['Rok'], df['LiczbaDeszczy'], df['LiczbaSniegów'], df['LiczbaBurz'], df['LiczbaMgiel'],\n",
    "              labels=['Deszcz', 'Śnieg', 'Burza', 'Mgła'], alpha=0.6)\n",
    "plt.title('Trendy zjawisk pogodowych na przestrzeni lat', fontsize=16)\n",
    "plt.xlabel('Rok', fontsize=14)\n",
    "plt.ylabel('Liczba wystąpień', fontsize=14)\n",
    "plt.legend(loc='upper left')\n",
    "plt.tight_layout()\n",
    "plt.show()"
   ],
   "outputs": [],
   "execution_count": null
  }
 ],
 "metadata": {
  "kernelspec": {
   "display_name": "Python 3 (ipykernel)",
   "language": "python",
   "name": "python3"
  },
  "language_info": {
   "codemirror_mode": {
    "name": "ipython",
    "version": 3
   },
   "file_extension": ".py",
   "mimetype": "text/x-python",
   "name": "python",
   "nbconvert_exporter": "python",
   "pygments_lexer": "ipython3",
   "version": "3.12.4"
  }
 },
 "nbformat": 4,
 "nbformat_minor": 5
}
